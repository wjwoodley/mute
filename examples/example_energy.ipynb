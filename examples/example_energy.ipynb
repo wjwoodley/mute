{
 "cells": [
  {
   "cell_type": "markdown",
   "id": "d0daedb6-7c97-4f9d-8643-75a56c44c5a4",
   "metadata": {},
   "source": [
    "# **Example: Calculating Underground Energy Spectra and Mean Underground Energies**\n",
    "\n",
    "This file demonstrates how to use MUTE to calculate underground energy spectra and mean underground energies for a lab under a flat overburden and for a lab under a mountain using daemonflux as the surface flux model.\n",
    "\n",
    "## Import Packages"
   ]
  },
  {
   "cell_type": "code",
   "execution_count": 1,
   "id": "d9721b85-cedd-4bdc-9dfd-195d2689a5a1",
   "metadata": {},
   "outputs": [
    {
     "name": "stdout",
     "output_type": "stream",
     "text": [
      "*************************************************************************\n",
      "*                                                                       *\n",
      "*                ███████████████████████████████████████                *\n",
      "*                ▓  ▓▓▓▓  ▓▓  ▓▓▓▓  ▓▓        ▓▓       ▓                *\n",
      "*                ▓   ▓▓   ▓▓  ▓▓▓▓  ▓▓▓▓▓  ▓▓▓▓▓  ▓▓▓▓▓▓                *\n",
      "*                ▒        ▒▒  ▒▒▒▒  ▒▒▒▒▒  ▒▒▒▒▒       ▒                *\n",
      "*                ▒  ▒  ▒  ▒▒  ▒▒▒▒  ▒▒▒▒▒  ▒▒▒▒▒  ▒▒▒▒▒▒                *\n",
      "*                ░  ░░░░  ░░░░    ░░░░░░░  ░░░░░       ░                *\n",
      "*                ░░░░░░░░░░░░░░░░░░░░░░░░░░░░░░░░░░░░░░░                *\n",
      "*                   https://github.com/wjwoodley/mute                   *\n",
      "*                                                                       *\n",
      "* Author:  William Woodley                                              *\n",
      "* Version: 3.0.0                                                        *\n",
      "*                                                                       *\n",
      "* Please cite:                                                          *\n",
      "*  - https://inspirehep.net/literature/1927720                          *\n",
      "*  - https://inspirehep.net/literature/2799258                          *\n",
      "*  - The models used for daemonflux, MCEq, PROPOSAL, and mountain maps  *\n",
      "*                                                                       *\n",
      "*************************************************************************\n"
     ]
    }
   ],
   "source": [
    "import matplotlib.pyplot as plt\n",
    "import numpy as np\n",
    "\n",
    "import mute.constants as mtc\n",
    "import mute.underground as mtu"
   ]
  },
  {
   "cell_type": "markdown",
   "id": "a5c0b499-0e1b-44d2-83dc-4a6557689518",
   "metadata": {},
   "source": [
    "## Set the Global Constants"
   ]
  },
  {
   "cell_type": "code",
   "execution_count": 2,
   "id": "f7ab1f36-d183-4111-8cf5-dd3b8fd9a88f",
   "metadata": {},
   "outputs": [],
   "source": [
    "mtc.set_verbose(2)\n",
    "mtc.set_output(False)\n",
    "mtc.set_lab(\"Example\")\n",
    "mtc.set_n_muon(1000000)"
   ]
  },
  {
   "cell_type": "markdown",
   "id": "aeb80c79-a615-45d8-8143-0dc6b38ca664",
   "metadata": {},
   "source": [
    "## Calculations for a Flat Overburden\n",
    "\n",
    "In order to calculate the underground energy spectrum for a flat overburden, the constants for a flat overburden must be set.\n",
    "\n",
    "### Set the Constants"
   ]
  },
  {
   "cell_type": "code",
   "execution_count": 3,
   "id": "e4d48977-3f7e-4b83-917c-e76bfc5ee04f",
   "metadata": {},
   "outputs": [],
   "source": [
    "mtc.set_overburden(\"flat\")\n",
    "mtc.set_vertical_depth(3)\n",
    "mtc.set_medium(\"rock\")\n",
    "mtc.set_reference_density(2.65)"
   ]
  },
  {
   "cell_type": "markdown",
   "id": "787d6475-a841-4b68-a62e-3a9489cc4667",
   "metadata": {},
   "source": [
    "### Calculate the Energy Spectrum\n",
    "\n",
    "Energy spectra are calculated by calling the ``mtu.calc_u_e_spect()`` function. The function returns an array of the underground energy spectrum values corresponding to the energy bins in ``mtc.ENERGIES``. Like with other MUTE functions, the surface flux model can be defined with the ``model`` parameter, with possible values being either ``\"daemonflux\"`` or ``\"mceq\"``. If the model is set to ``\"daemonflux\"``, the ``return_error`` Boolean flag can be used; if it is set to ``\"mceq\"``, the primary model can be specified with the ``primary_model`` parameter, and the hadronic interaction model can be specified with the ``interaction_model`` parameter."
   ]
  },
  {
   "cell_type": "code",
   "execution_count": 4,
   "id": "0ad5f0f4-eb94-4869-80a4-bf5cc54d40d9",
   "metadata": {},
   "outputs": [
    {
     "name": "stdout",
     "output_type": "stream",
     "text": [
      "Calculating underground fluxes.\n",
      "Loading surface fluxes for daemonflux.\n",
      "Loaded surface fluxes.\n",
      "Loading survival probabilities from data/survival_probabilities/rock_2.65_1000000_survival_probabilities.npy.\n",
      "Loaded survival probabilities.\n",
      "Finished calculating underground fluxes.\n"
     ]
    }
   ],
   "source": [
    "flat_u_e_spect = mtu.calc_u_e_spect(model = \"daemonflux\")"
   ]
  },
  {
   "cell_type": "code",
   "execution_count": 5,
   "id": "d4546478-96a8-4ecc-9d00-9d2189ed53b6",
   "metadata": {},
   "outputs": [
    {
     "name": "stdout",
     "output_type": "stream",
     "text": [
      "[0.00000000e+00 5.26878271e-14 1.47067153e-13 2.01562949e-13\n",
      " 2.27988583e-13 2.47785106e-13 2.53868841e-13 2.53722086e-13\n",
      " 2.46284399e-13 2.44741021e-13 2.36138943e-13 2.30379217e-13\n",
      " 2.23250452e-13 2.19360342e-13 2.16385360e-13 2.07168702e-13\n",
      " 2.03527829e-13 1.96653111e-13 1.93322680e-13 1.85291017e-13\n",
      " 1.79362123e-13 1.74709992e-13 1.68731020e-13 1.60242114e-13\n",
      " 1.54962576e-13 1.47966042e-13 1.40330417e-13 1.30804765e-13\n",
      " 1.20579012e-13 1.07924884e-13 9.37600641e-14 7.85639903e-14\n",
      " 6.52949173e-14 5.39966705e-14 4.25995954e-14 3.13728667e-14\n",
      " 2.25916159e-14 1.56948085e-14 1.01915204e-14 6.42587386e-15\n",
      " 3.82890603e-15 2.18258934e-15 1.19993043e-15 6.32007157e-16\n",
      " 3.21065238e-16 1.58110246e-16 7.58555009e-17 3.55943395e-17\n",
      " 1.63845162e-17 7.40936883e-18 3.31511016e-18 1.46288653e-18\n",
      " 6.42157096e-19 2.79445520e-19 1.20503261e-19 5.19247536e-20\n",
      " 2.22288355e-20 9.49156039e-21 4.03005682e-21 1.70865610e-21\n",
      " 7.21534885e-22 3.04028579e-22 1.27788377e-22 5.36780158e-23\n",
      " 2.25510969e-23 9.51151420e-24 4.03317851e-24 1.72857530e-24\n",
      " 7.49408462e-25 3.30538699e-25 1.48736367e-25 6.80532935e-26\n",
      " 3.16838471e-26 1.49445743e-26 7.11476319e-27 3.41726712e-27\n",
      " 1.64766769e-27 7.93100491e-28 3.82167859e-28 1.82625988e-28\n",
      " 8.67843207e-29 4.07309908e-29 1.87245530e-29 8.34460803e-30\n",
      " 3.47846450e-30 1.29173740e-30 3.68952024e-31 4.57557556e-32\n",
      " 0.00000000e+00 0.00000000e+00 0.00000000e+00]\n"
     ]
    }
   ],
   "source": [
    "print(flat_u_e_spect)"
   ]
  },
  {
   "cell_type": "markdown",
   "id": "981dca6c-86ba-49a9-9801-57d5d2e71aa9",
   "metadata": {},
   "source": [
    "### Calculate the Mean Energies\n",
    "\n",
    "Mean and median energies are calculated by calling the ``mtu.calc_u_mean_e()`` function. The function returns an array of mean and median energies and confidence intervals (as described in [``Tutorial.md``](../docs/Tutorial.md)). Like with other MUTE functions, the surface flux model can be defined with the ``model`` parameter, with possible values being either ``\"daemonflux\"`` or ``\"mceq\"``. If the model is set to ``\"daemonflux\"``, the ``return_error`` Boolean flag can be used; if it is set to ``\"mceq\"``, the primary model can be specified with the ``primary_model`` parameter, and the hadronic interaction model can be specified with the ``interaction_model`` parameter."
   ]
  },
  {
   "cell_type": "code",
   "execution_count": 6,
   "id": "4a4e00f1-1d71-4f19-8930-bd0e9ca19edb",
   "metadata": {},
   "outputs": [
    {
     "name": "stdout",
     "output_type": "stream",
     "text": [
      "Calculating underground fluxes.\n",
      "Loading surface fluxes for daemonflux.\n",
      "Loaded surface fluxes.\n",
      "Survival probabilities already loaded for rock with density 2.65 gcm^-3 and 1000000 muons.\n",
      "Finished calculating underground fluxes.\n",
      "Calculating mean underground energies.\n",
      "Finished calculating mean underground energies.\n"
     ]
    }
   ],
   "source": [
    "flat_u_energies = mtu.calc_u_mean_e(model = \"daemonflux\")"
   ]
  },
  {
   "cell_type": "markdown",
   "id": "5294744f-75bb-4e7b-b609-3e31bdab464f",
   "metadata": {},
   "source": [
    "The mean energy is stored in the zeroth element of the array. Divide by ``1e3`` to convert from [MeV] to [GeV]."
   ]
  },
  {
   "cell_type": "code",
   "execution_count": 7,
   "id": "318e4c87-1d8c-41b7-a313-4aa87fd25431",
   "metadata": {},
   "outputs": [
    {
     "name": "stdout",
     "output_type": "stream",
     "text": [
      "287.92\n"
     ]
    }
   ],
   "source": [
    "print(np.round(flat_u_energies[0]/1e3, 2))"
   ]
  },
  {
   "cell_type": "markdown",
   "id": "63f0ec0a-33c3-4cd5-816f-7492614c7caf",
   "metadata": {},
   "source": [
    "The mean energy under a flat overburden of 3 km.w.e. of standard rock is 287.9 GeV."
   ]
  },
  {
   "cell_type": "markdown",
   "id": "de5b62c0-d3a3-44f1-90ff-fea674e371a5",
   "metadata": {},
   "source": [
    "## Calculate the Mountain Underground Energy Spectrum\n",
    "\n",
    "In order to calculate the underground energy spectrum for a lab under a mountain, the constants for a mountainous overburden must be set. Here, Y2L will be used as an example. The medium, reference density, and mountain map for Y2L are used as described in [``Tutorial_Labs``](/docs/Tutorial_Labs.md).\n",
    "\n",
    "### Set the Constants"
   ]
  },
  {
   "cell_type": "code",
   "execution_count": 8,
   "id": "7ea60450-fd7a-4efa-92e1-a8e8dcc3abc5",
   "metadata": {},
   "outputs": [
    {
     "name": "stdout",
     "output_type": "stream",
     "text": [
      "Setting overburden to mountain and resetting flat overburden constants.\n"
     ]
    },
    {
     "name": "stderr",
     "output_type": "stream",
     "text": [
      "/tmp/ipykernel_13455/1311854600.py:3: UserWarning: Changing the reference density will trigger the computation of new transfer tensors (for advanced users).\n",
      "  mtc.set_reference_density(2.7)\n"
     ]
    }
   ],
   "source": [
    "mtc.set_overburden(\"mountain\")\n",
    "mtc.set_medium(\"y2l_rock\")\n",
    "mtc.set_reference_density(2.7)\n",
    "mtc.load_mountain(\"Y2L\")"
   ]
  },
  {
   "cell_type": "markdown",
   "id": "d178449f-b97c-41ed-8ccd-f75199ff377a",
   "metadata": {},
   "source": [
    "### Calculate the Energy Spectrum"
   ]
  },
  {
   "cell_type": "code",
   "execution_count": 9,
   "id": "a817a650-e885-4039-bba4-537fd7f9e4b6",
   "metadata": {},
   "outputs": [
    {
     "name": "stdout",
     "output_type": "stream",
     "text": [
      "Calculating underground fluxes.\n",
      "Loading surface fluxes for daemonflux.\n",
      "Loaded surface fluxes.\n",
      "Loading survival probabilities from data/survival_probabilities/y2l_rock_2.7_1000000_survival_probabilities.npy.\n",
      "Loaded survival probabilities.\n",
      "Finished calculating underground fluxes.\n"
     ]
    }
   ],
   "source": [
    "mountain_u_e_spect = mtu.calc_u_e_spect(model = \"daemonflux\")"
   ]
  },
  {
   "cell_type": "code",
   "execution_count": 10,
   "id": "08c6c8ad-46a4-4ef3-9833-3295839d334b",
   "metadata": {},
   "outputs": [
    {
     "name": "stdout",
     "output_type": "stream",
     "text": [
      "[0.00000000e+00 9.57277998e-13 2.94484937e-12 3.95076387e-12\n",
      " 4.67032199e-12 4.81105663e-12 5.02490711e-12 4.98285007e-12\n",
      " 4.90702798e-12 4.69539870e-12 4.77306055e-12 4.55305757e-12\n",
      " 4.54721886e-12 4.39812019e-12 4.23673151e-12 4.17279656e-12\n",
      " 4.07422964e-12 3.96412067e-12 3.83189079e-12 3.69817020e-12\n",
      " 3.53345660e-12 3.42042527e-12 3.27755173e-12 3.11313854e-12\n",
      " 2.94125483e-12 2.75045555e-12 2.53931218e-12 2.28490377e-12\n",
      " 2.01457019e-12 1.81145315e-12 1.58577080e-12 1.24080807e-12\n",
      " 9.25905067e-13 7.96237249e-13 5.74150895e-13 3.79715739e-13\n",
      " 2.83463037e-13 1.68824395e-13 1.08461121e-13 6.49584416e-14\n",
      " 3.53611550e-14 1.94676321e-14 1.03095497e-14 5.19958915e-15\n",
      " 2.54010706e-15 1.21138286e-15 5.66643184e-16 2.60465134e-16\n",
      " 1.17682111e-16 5.25859985e-17 2.32291952e-17 1.01864677e-17\n",
      " 4.43448445e-18 1.92111686e-18 8.27484054e-19 3.55318596e-19\n",
      " 1.51992455e-19 6.47437570e-20 2.75348004e-20 1.16718489e-20\n",
      " 4.92988641e-21 2.08074026e-21 8.73496490e-22 3.65963044e-22\n",
      " 1.53093768e-22 6.38049327e-23 2.66123600e-23 1.11574031e-23\n",
      " 4.69787456e-24 1.99700990e-24 8.61066915e-25 3.77539832e-25\n",
      " 1.69152525e-25 7.73177141e-26 3.60142737e-26 1.69770668e-26\n",
      " 8.12939325e-27 3.92125649e-27 1.89821683e-27 9.21417048e-28\n",
      " 4.45838558e-28 2.15058462e-28 1.03452223e-28 4.92509405e-29\n",
      " 2.30353967e-29 1.04827745e-29 4.49196647e-30 1.67192334e-30\n",
      " 3.99711937e-31 0.00000000e+00 0.00000000e+00]\n"
     ]
    }
   ],
   "source": [
    "print(mountain_u_e_spect)"
   ]
  },
  {
   "cell_type": "markdown",
   "id": "e85fdd75-294d-4ca8-a528-a60f13747829",
   "metadata": {},
   "source": [
    "### Calculate the Mean Energies"
   ]
  },
  {
   "cell_type": "code",
   "execution_count": 11,
   "id": "05ea7aee-dd7f-4dc5-859b-706d3f17f3dc",
   "metadata": {},
   "outputs": [
    {
     "name": "stdout",
     "output_type": "stream",
     "text": [
      "Calculating underground fluxes.\n",
      "Loading surface fluxes for daemonflux.\n",
      "Loaded surface fluxes.\n",
      "Survival probabilities already loaded for y2l_rock with density 2.7 gcm^-3 and 1000000 muons.\n",
      "Finished calculating underground fluxes.\n",
      "Calculating mean underground energies.\n",
      "Finished calculating mean underground energies.\n"
     ]
    }
   ],
   "source": [
    "mountain_u_energies = mtu.calc_u_mean_e(model = \"daemonflux\")"
   ]
  },
  {
   "cell_type": "markdown",
   "id": "960f7661-d9a0-40d5-afe0-dbfd0d3dba1e",
   "metadata": {},
   "source": [
    "The mean energy is stored in the zeroth element of the array. Divide by ``1e3`` to convert from [MeV] to [GeV]."
   ]
  },
  {
   "cell_type": "code",
   "execution_count": 12,
   "id": "0b96c79b-9f19-43e3-b2d0-be1233d258fa",
   "metadata": {},
   "outputs": [
    {
     "name": "stdout",
     "output_type": "stream",
     "text": [
      "211.16\n"
     ]
    }
   ],
   "source": [
    "print(np.round(mountain_u_energies[0]/1e3, 2))"
   ]
  },
  {
   "cell_type": "markdown",
   "id": "e92fba59-31a5-4f4a-8c99-1de73de2bd55",
   "metadata": {},
   "source": [
    "The mean energy at the Y2L laboratory is 211.2 GeV."
   ]
  },
  {
   "cell_type": "markdown",
   "id": "21d24a30-38d2-4300-8033-85bf8d16c301",
   "metadata": {},
   "source": [
    "## Plot the Results"
   ]
  },
  {
   "cell_type": "code",
   "execution_count": 13,
   "id": "fb545ffc-efd9-46bd-9ca2-229ffb2e0e92",
   "metadata": {},
   "outputs": [
    {
     "data": {
      "image/png": "[encoded data removed]",
      "text/plain": [
       "<Figure size 1000x500 with 1 Axes>"
      ]
     },
     "metadata": {},
     "output_type": "display_data"
    }
   ],
   "source": [
    "fig = plt.figure(figsize = (10, 5))\n",
    "ax  = fig.add_subplot(111)\n",
    "\n",
    "ax.loglog(mtc.ENERGIES/1e3, 1e3*flat_u_e_spect, color = \"red\", lw = 3, ls = \"-\", label = \"Flat ($h=3$ km.w.e.)\")\n",
    "ax.loglog(mtc.ENERGIES/1e3, 1e3*mountain_u_e_spect, color = \"blue\", lw = 3, ls = \"--\", label = \"Mountain (Y2L)\")\n",
    "\n",
    "ax.set_xlabel(r\"Underground Energy, $E^u$ (GeV)\", fontsize = 23)\n",
    "ax.set_ylabel(r\"$\\Phi^u_{\\Omega}$ (cm$^{-2}$s$^{-1}$GeV$^{-1}$)\", fontsize = 23)\n",
    "ax.tick_params(axis = \"both\", which = \"major\", labelsize = 18)\n",
    "ax.set_xlim([3e-1, 1e5])\n",
    "ax.set_ylim([1e-17, 5e-8])\n",
    "\n",
    "plt.legend(frameon = False, fontsize = 16)\n",
    "\n",
    "plt.show()"
   ]
  }
 ],
 "metadata": {
  "kernelspec": {
   "display_name": "Python 3 (ipykernel)",
   "language": "python",
   "name": "python3"
  },
  "language_info": {
   "codemirror_mode": {
    "name": "ipython",
    "version": 3
   },
   "file_extension": ".py",
   "mimetype": "text/x-python",
   "name": "python",
   "nbconvert_exporter": "python",
   "pygments_lexer": "ipython3",
   "version": "3.12.5"
  }
 },
 "nbformat": 4,
 "nbformat_minor": 5
}
