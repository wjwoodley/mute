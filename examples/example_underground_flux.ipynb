{
 "cells": [
  {
   "cell_type": "markdown",
   "metadata": {},
   "source": [
    "# Example: Calculating Underground Fluxes\n",
    "\n",
    "This file demonstrates how to use MUTE to check the surface flux and survival probability grids in the data files and use them to calculate underground fluxes for a lab located 3 km.w.e. under rock.\n",
    "\n",
    "## Import Packages"
   ]
  },
  {
   "cell_type": "code",
   "execution_count": 1,
   "metadata": {},
   "outputs": [],
   "source": [
    "import numpy as np\n",
    "\n",
    "import mute.constants as mtc\n",
    "import mute.surface as mts\n",
    "import mute.propagation as mtp\n",
    "import mute.underground as mtu"
   ]
  },
  {
   "cell_type": "markdown",
   "metadata": {},
   "source": [
    "## Set the Constants"
   ]
  },
  {
   "cell_type": "code",
   "execution_count": 2,
   "metadata": {},
   "outputs": [],
   "source": [
    "mtc.set_verbose(2)\n",
    "mtc.set_output(True)\n",
    "mtc.set_lab(\"Example\")\n",
    "mtc.set_overburden(\"flat\")\n",
    "mtc.set_vertical_depth(3)\n",
    "mtc.set_medium(\"rock\")\n",
    "mtc.set_density(2.65)\n",
    "mtc.set_n_muon(100000)"
   ]
  },
  {
   "cell_type": "markdown",
   "metadata": {},
   "source": [
    "## Check the Slant Depths\n",
    "\n",
    "Check the number and value of the slant depths that the underground fluxes will be calculated with. Because the vertical depth was set to ``3`` above, the slant depths should start at 3."
   ]
  },
  {
   "cell_type": "code",
   "execution_count": 3,
   "metadata": {},
   "outputs": [
    {
     "name": "stdout",
     "output_type": "stream",
     "text": [
      "19\n",
      "[ 3.   3.5  4.   4.5  5.   5.5  6.   6.5  7.   7.5  8.   8.5  9.   9.5\n",
      " 10.  10.5 11.  11.5 12. ]\n"
     ]
    }
   ],
   "source": [
    "print(len(mtc.slant_depths))\n",
    "print(mtc.slant_depths)"
   ]
  },
  {
   "cell_type": "markdown",
   "metadata": {},
   "source": [
    "## Check the Surface Flux Grids\n",
    "\n",
    "Check the surface energy grid and the angles that the surface fluxes were calculated for."
   ]
  },
  {
   "cell_type": "code",
   "execution_count": 4,
   "metadata": {},
   "outputs": [
    {
     "name": "stdout",
     "output_type": "stream",
     "text": [
      "This file has 91 surface energies:\n",
      "[8.91250938e+01 1.12201845e+02 1.41253754e+02 1.77827941e+02\n",
      " 2.23872114e+02 2.81838293e+02 3.54813389e+02 4.46683592e+02\n",
      " 5.62341325e+02 7.07945784e+02 8.91250938e+02 1.12201845e+03\n",
      " 1.41253754e+03 1.77827941e+03 2.23872114e+03 2.81838293e+03\n",
      " 3.54813389e+03 4.46683592e+03 5.62341325e+03 7.07945784e+03\n",
      " 8.91250938e+03 1.12201845e+04 1.41253754e+04 1.77827941e+04\n",
      " 2.23872114e+04 2.81838293e+04 3.54813389e+04 4.46683592e+04\n",
      " 5.62341325e+04 7.07945784e+04 8.91250938e+04 1.12201845e+05\n",
      " 1.41253754e+05 1.77827941e+05 2.23872114e+05 2.81838293e+05\n",
      " 3.54813389e+05 4.46683592e+05 5.62341325e+05 7.07945784e+05\n",
      " 8.91250938e+05 1.12201845e+06 1.41253754e+06 1.77827941e+06\n",
      " 2.23872114e+06 2.81838293e+06 3.54813389e+06 4.46683592e+06\n",
      " 5.62341325e+06 7.07945784e+06 8.91250938e+06 1.12201845e+07\n",
      " 1.41253754e+07 1.77827941e+07 2.23872114e+07 2.81838293e+07\n",
      " 3.54813389e+07 4.46683592e+07 5.62341325e+07 7.07945784e+07\n",
      " 8.91250938e+07 1.12201845e+08 1.41253754e+08 1.77827941e+08\n",
      " 2.23872114e+08 2.81838293e+08 3.54813389e+08 4.46683592e+08\n",
      " 5.62341325e+08 7.07945784e+08 8.91250938e+08 1.12201845e+09\n",
      " 1.41253754e+09 1.77827941e+09 2.23872114e+09 2.81838293e+09\n",
      " 3.54813389e+09 4.46683592e+09 5.62341325e+09 7.07945784e+09\n",
      " 8.91250938e+09 1.12201845e+10 1.41253754e+10 1.77827941e+10\n",
      " 2.23872114e+10 2.81838293e+10 3.54813389e+10 4.46683592e+10\n",
      " 5.62341325e+10 7.07945784e+10 8.91250938e+10]\n",
      "This file has 20 zenith angles:\n",
      "[ 0.       4.73684  9.47368 14.21053 18.94737 23.68421 28.42105 33.15789\n",
      " 37.89474 42.63158 47.36842 52.10526 56.84211 61.57895 66.31579 71.05263\n",
      " 75.78947 80.52632 85.26316 90.     ]\n"
     ]
    }
   ],
   "source": [
    "mts.print_s_fluxes_grids(\"Surface_Fluxes_USStd_SIBYLL-2.3c_GSF.txt\")"
   ]
  },
  {
   "cell_type": "markdown",
   "metadata": {},
   "source": [
    "The file has 20 zenith angles, which does not correspond to the 19 slant depths printed above. This is fine, because the ``mtu.calc_u_fluxes()`` function will interpolate over the surface flux matrix to calculate the underground fluxes for a consistent set of angles.\n",
    "\n",
    "## Check the Survival Probability Grids\n",
    "\n",
    "Check the surface energy grid, the slant depths, and the underground energy grid that the survival probabilities were calculated for."
   ]
  },
  {
   "cell_type": "code",
   "execution_count": 5,
   "metadata": {},
   "outputs": [
    {
     "name": "stdout",
     "output_type": "stream",
     "text": [
      "This file has 121 surface energies:\n",
      "[8.91250938e+01 1.12201845e+02 1.41253754e+02 1.77827941e+02\n",
      " 2.23872114e+02 2.81838293e+02 3.54813389e+02 4.46683592e+02\n",
      " 5.62341325e+02 7.07945784e+02 8.91250938e+02 1.12201845e+03\n",
      " 1.41253754e+03 1.77827941e+03 2.23872114e+03 2.81838293e+03\n",
      " 3.54813389e+03 4.46683592e+03 5.62341325e+03 7.07945784e+03\n",
      " 8.91250938e+03 1.12201845e+04 1.41253754e+04 1.77827941e+04\n",
      " 2.23872114e+04 2.81838293e+04 3.54813389e+04 4.46683592e+04\n",
      " 5.62341325e+04 7.07945784e+04 8.91250938e+04 1.12201845e+05\n",
      " 1.41253754e+05 1.77827941e+05 2.23872114e+05 2.81838293e+05\n",
      " 3.54813389e+05 4.46683592e+05 5.62341325e+05 7.07945784e+05\n",
      " 8.91250938e+05 1.12201845e+06 1.41253754e+06 1.77827941e+06\n",
      " 2.23872114e+06 2.81838293e+06 3.54813389e+06 4.46683592e+06\n",
      " 5.62341325e+06 7.07945784e+06 8.91250938e+06 1.12201845e+07\n",
      " 1.41253754e+07 1.77827941e+07 2.23872114e+07 2.81838293e+07\n",
      " 3.54813389e+07 4.46683592e+07 5.62341325e+07 7.07945784e+07\n",
      " 8.91250938e+07 1.12201845e+08 1.41253754e+08 1.77827941e+08\n",
      " 2.23872114e+08 2.81838293e+08 3.54813389e+08 4.46683592e+08\n",
      " 5.62341325e+08 7.07945784e+08 8.91250938e+08 1.12201845e+09\n",
      " 1.41253754e+09 1.77827941e+09 2.23872114e+09 2.81838293e+09\n",
      " 3.54813389e+09 4.46683592e+09 5.62341325e+09 7.07945784e+09\n",
      " 8.91250938e+09 1.12201845e+10 1.41253754e+10 1.77827941e+10\n",
      " 2.23872114e+10 2.81838293e+10 3.54813389e+10 4.46683592e+10\n",
      " 5.62341325e+10 7.07945784e+10 8.91250938e+10 1.12201845e+11\n",
      " 1.41253754e+11 1.77827941e+11 2.23872114e+11 2.81838293e+11\n",
      " 3.54813389e+11 4.46683592e+11 5.62341325e+11 7.07945784e+11\n",
      " 8.91250938e+11 1.12201845e+12 1.41253754e+12 1.77827941e+12\n",
      " 2.23872114e+12 2.81838293e+12 3.54813389e+12 4.46683592e+12\n",
      " 5.62341325e+12 7.07945784e+12 8.91250938e+12 1.12201845e+13\n",
      " 1.41253754e+13 1.77827941e+13 2.23872114e+13 2.81838293e+13\n",
      " 3.54813389e+13 4.46683592e+13 5.62341325e+13 7.07945784e+13\n",
      " 8.91250938e+13]\n",
      "This file has 23 slant depths:\n",
      "[ 1.       1.49925  2.       2.5      3.003    3.4965   4.       4.5045\n",
      "  5.       5.49451  5.98802  6.49351  6.99301  7.5188   8.       8.47458\n",
      "  9.00901  9.52381 10.      10.52632 10.98901 11.49425 12.04819]\n",
      "This file has 121 underground energies:\n",
      "[8.91250938e+01 1.12201845e+02 1.41253754e+02 1.77827941e+02\n",
      " 2.23872114e+02 2.81838293e+02 3.54813389e+02 4.46683592e+02\n",
      " 5.62341325e+02 7.07945784e+02 8.91250938e+02 1.12201845e+03\n",
      " 1.41253754e+03 1.77827941e+03 2.23872114e+03 2.81838293e+03\n",
      " 3.54813389e+03 4.46683592e+03 5.62341325e+03 7.07945784e+03\n",
      " 8.91250938e+03 1.12201845e+04 1.41253754e+04 1.77827941e+04\n",
      " 2.23872114e+04 2.81838293e+04 3.54813389e+04 4.46683592e+04\n",
      " 5.62341325e+04 7.07945784e+04 8.91250938e+04 1.12201845e+05\n",
      " 1.41253754e+05 1.77827941e+05 2.23872114e+05 2.81838293e+05\n",
      " 3.54813389e+05 4.46683592e+05 5.62341325e+05 7.07945784e+05\n",
      " 8.91250938e+05 1.12201845e+06 1.41253754e+06 1.77827941e+06\n",
      " 2.23872114e+06 2.81838293e+06 3.54813389e+06 4.46683592e+06\n",
      " 5.62341325e+06 7.07945784e+06 8.91250938e+06 1.12201845e+07\n",
      " 1.41253754e+07 1.77827941e+07 2.23872114e+07 2.81838293e+07\n",
      " 3.54813389e+07 4.46683592e+07 5.62341325e+07 7.07945784e+07\n",
      " 8.91250938e+07 1.12201845e+08 1.41253754e+08 1.77827941e+08\n",
      " 2.23872114e+08 2.81838293e+08 3.54813389e+08 4.46683592e+08\n",
      " 5.62341325e+08 7.07945784e+08 8.91250938e+08 1.12201845e+09\n",
      " 1.41253754e+09 1.77827941e+09 2.23872114e+09 2.81838293e+09\n",
      " 3.54813389e+09 4.46683592e+09 5.62341325e+09 7.07945784e+09\n",
      " 8.91250938e+09 1.12201845e+10 1.41253754e+10 1.77827941e+10\n",
      " 2.23872114e+10 2.81838293e+10 3.54813389e+10 4.46683592e+10\n",
      " 5.62341325e+10 7.07945784e+10 8.91250938e+10 1.12201845e+11\n",
      " 1.41253754e+11 1.77827941e+11 2.23872114e+11 2.81838293e+11\n",
      " 3.54813389e+11 4.46683592e+11 5.62341325e+11 7.07945784e+11\n",
      " 8.91250938e+11 1.12201845e+12 1.41253754e+12 1.77827941e+12\n",
      " 2.23872114e+12 2.81838293e+12 3.54813389e+12 4.46683592e+12\n",
      " 5.62341325e+12 7.07945784e+12 8.91250938e+12 1.12201845e+13\n",
      " 1.41253754e+13 1.77827941e+13 2.23872114e+13 2.81838293e+13\n",
      " 3.54813389e+13 4.46683592e+13 5.62341325e+13 7.07945784e+13\n",
      " 8.91250938e+13]\n"
     ]
    }
   ],
   "source": [
    "mtp.print_survival_probability_tensor_grids(\"rock_2.65_1000_Survival_Probabilities.txt\")"
   ]
  },
  {
   "cell_type": "markdown",
   "metadata": {},
   "source": [
    "The file has 23 slant depths (these are the default slant depths given by ``mtc.SLANT_DEPTHS``), which do not correspond to the 19 slant depths printed earlier on in the notebook, or the 20 zenith angles in the surface fluxes file. This is fine, because the ``mtu.calc_u_fluxes()`` function will interpolate over the survival probability tensor to calculate the underground fluxes for a consistent set of angles.\n",
    "\n",
    "## Calculate the Underground Fluxes\n",
    "\n",
    "The ``mtu.calc_u_fluxes()`` function returns a tuple with two elements. The first element is the underground flux matrix for the angles specified by the ``angles`` parameter in the function (because no angles have been specified below, the default angles, given by ``mtc.angles``, which correspond to the slant depths given by ``mtc.slant_depths`` which were printed earlier on in the notebook, are taken). The second element of the tuple is the underground flux matrix for 0 degrees. This is used by MUTE to calculate true vertical intensities, but is otherwise unneeded. Therefore, whenever underground fluxes are being calculated, the function should be indexed with ``[0]`` to get the matrix."
   ]
  },
  {
   "cell_type": "code",
   "execution_count": 6,
   "metadata": {},
   "outputs": [
    {
     "name": "stdout",
     "output_type": "stream",
     "text": [
      "Calculating underground fluxes.\n",
      "Loading surface fluxes for USStd using SIBYLL-2.3c and GSF.\n",
      "Loaded surface fluxes.\n",
      "Loading survival probabilities from mute/data/survival_probabilities/rock_2.65_100000_Survival_Probabilities.txt.\n",
      "Loaded survival probabilities.\n",
      "Finished calculating underground fluxes.\n",
      "Underground fluxes written to mute/data/underground/Example_Underground_Fluxes.txt.\n",
      "[[ 1.58174943e-31  2.03216016e-14  8.92485647e-14 ...  2.28369035e-33\n",
      "  -1.86591343e-54 -2.15078582e-53]\n",
      " [-4.66493377e-31  4.77723916e-15  4.98998048e-14 ...  2.65866158e-35\n",
      "  -3.63495916e-49  1.48010365e-53]\n",
      " [ 1.46282717e-31  1.88131524e-14  4.67154852e-14 ... -1.59878825e-42\n",
      "  -1.60365879e-49  4.75763239e-55]\n",
      " ...\n",
      " [-1.37061321e-34  1.06190926e-17  2.58483106e-17 ... -5.04143620e-48\n",
      "  -2.34910961e-53  9.86893118e-64]\n",
      " [-1.23803298e-34  1.09601069e-18  5.79660195e-18 ...  1.69031120e-49\n",
      "   1.07667524e-53 -3.35329177e-65]\n",
      " [-8.89551110e-35  2.04038919e-18  2.24518228e-18 ... -6.19903924e-54\n",
      "  -2.61012179e-54  0.00000000e+00]]\n"
     ]
    }
   ],
   "source": [
    "u_fluxes = mtu.calc_u_fluxes()[0]\n",
    "\n",
    "print(u_fluxes)"
   ]
  }
 ],
 "metadata": {
  "kernelspec": {
   "display_name": "Python 3",
   "language": "python",
   "name": "python3"
  },
  "language_info": {
   "codemirror_mode": {
    "name": "ipython",
    "version": 3
   },
   "file_extension": ".py",
   "mimetype": "text/x-python",
   "name": "python",
   "nbconvert_exporter": "python",
   "pygments_lexer": "ipython3",
   "version": "3.8.10"
  }
 },
 "nbformat": 4,
 "nbformat_minor": 4
}
